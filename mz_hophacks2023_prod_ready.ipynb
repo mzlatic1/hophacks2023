{
 "cells": [
  {
   "cell_type": "markdown",
   "source": [
    "# Marko Zlatic HopHacks Competition 2023 Python Code\n",
    "\n",
    "**This Python code was created for the HopHacks Competition 2023.**\n",
    "\n",
    "The Python code below is used to output a shapefile (.shp) file containing the resulting predictions of influenza infections for 180 countries from 2023 to 2028. The primary machine learning model used was the XGBoost regressor from the XGBoost API. Due to the robust data manipulation of the parent dataset, there was no hyperparameter tuning as the resulting R-Squared and RMSE values are considered ideal. Once when the production ready prediction shapefile is created, a supplementary Python script (mz_hophacks2023_upload_2_agol.py) was created to automate the process to upload and publish content in ArcGIS Online (AGOL).\n",
    "\n",
    "The source dataset used to produce the predictions is from the World Heath Organization's (WHO) FluNet Database containing the records of several virus infections for severl countries from 1997 to 2023, found [here](\"https://www.who.int/tools/flunet\").\n",
    "\n",
    "The primary feature layer enabling this web application can be found [here](\"https://services1.arcgis.com/0MSEUqKaxRlEPj5g/arcgis/rest/services/MS_HopHacks_2023_Influenza_Global_Predictions_2023_to_2028/FeatureServer\").\n",
    "\n",
    "The file geodatabase (gdb) that contains the global country geopolitical boundaries used to generate the final shapefile is from Esri's ArcGIS Hub, found [here](\"https://hub.arcgis.com/datasets/esri::world-countries-generalized/explore\").\n",
    "\n",
    "The web application rendering the results can be found in [GitHub](\"https://github.com/mzlatic1/hophacks2023\") for the source code and can also be viewed from the JSbin hosted link [here](\"https://jsbin.com/diyihurola\").\n",
    "\n",
    "Author Info:<br/>\n",
    "Name: Marko Zlatic<br/>\n",
    "Date: September 17, 2023<br/>\n",
    "Purpose: HopHacks 2023<br/>\n",
    "Student Status: Graduate<br/>\n",
    "Program: MSc. Geographic Information Systems<br/>\n",
    "University: Johns Hopkins University\n"
   ],
   "metadata": {
    "collapsed": false
   },
   "id": "d41c1b5ca4cc3e6b"
  },
  {
   "cell_type": "code",
   "execution_count": 86,
   "id": "initial_id",
   "metadata": {
    "collapsed": true,
    "ExecuteTime": {
     "end_time": "2023-09-16T17:36:44.447496700Z",
     "start_time": "2023-09-16T17:36:44.216881200Z"
    }
   },
   "outputs": [],
   "source": [
    "# load packages\n",
    "from sklearn.preprocessing import LabelEncoder\n",
    "from sklearn import model_selection, metrics\n",
    "from xgboost import XGBRegressor\n",
    "import geopandas as gpd\n",
    "import pandas as pd\n",
    "import numpy as np\n",
    "import os\n",
    "import math"
   ]
  },
  {
   "cell_type": "code",
   "execution_count": 70,
   "outputs": [],
   "source": [
    "# locate FluNet file and load data\n",
    "folder = os.path.split(os.getcwd())[0]\n",
    "datasets = os.path.join(folder, 'datasets')\n",
    "csv_file = os.path.join(datasets, 'VIW_FNT.csv')"
   ],
   "metadata": {
    "collapsed": false,
    "ExecuteTime": {
     "end_time": "2023-09-16T16:46:08.942642300Z",
     "start_time": "2023-09-16T16:46:08.912643400Z"
    }
   },
   "id": "7a2671562d47728a"
  },
  {
   "cell_type": "code",
   "execution_count": 71,
   "outputs": [],
   "source": [
    "df = pd.read_csv(csv_file).fillna(0)"
   ],
   "metadata": {
    "collapsed": false,
    "ExecuteTime": {
     "end_time": "2023-09-16T16:46:09.306884700Z",
     "start_time": "2023-09-16T16:46:08.927644Z"
    }
   },
   "id": "2ee1f3ef053bf182"
  },
  {
   "cell_type": "code",
   "execution_count": 72,
   "outputs": [],
   "source": [
    "# manually encode country names (to be able to reverse transform once when results are produced)\n",
    "country_names = {}\n",
    "idx = 0\n",
    "for c in list(df['COUNTRY_AREA_TERRITORY'].unique()):\n",
    "    country_names[c] = idx\n",
    "    idx += 1"
   ],
   "metadata": {
    "collapsed": false,
    "ExecuteTime": {
     "end_time": "2023-09-16T16:46:09.322880200Z",
     "start_time": "2023-09-16T16:46:09.311880200Z"
    }
   },
   "id": "171f4b2c76614f65"
  },
  {
   "cell_type": "code",
   "execution_count": 73,
   "outputs": [],
   "source": [
    "# apply preprocessing computations\n",
    "def preprocessing(input_df):\n",
    "    drop_fields = []\n",
    "    for col in list(input_df.columns):\n",
    "        if 'date' in col.lower(): # apply sin transformation to make day and month values more cyclical\n",
    "            input_df[col] = pd.to_datetime(input_df[col])\n",
    "            input_df[col + '_DAY'] = input_df[col].apply(lambda row: np.sin(row.day / 365 * 2 * np.pi))\n",
    "            input_df[col + '_MONTH'] = input_df[col].apply(lambda row: np.sin(row.year / 12 * 2 * np.pi))\n",
    "            drop_fields.append(col)\n",
    "        elif input_df[col].dtype == object:\n",
    "            try:\n",
    "                if col == 'COUNTRY_AREA_TERRITORY': # manually transform to store values for final export\n",
    "                    input_df[col] = input_df[col].apply(lambda row: country_names[row])\n",
    "                else:\n",
    "                    input_df[col] = LabelEncoder().fit_transform(input_df[col])\n",
    "            except:\n",
    "                print('Didnt work with', col)\n",
    "                drop_fields.append(col)\n",
    "        elif input_df[col].dtype == int or input_df[col].dtype == float: # apply logarithm transformations due to extreme skews in many distributions\n",
    "            if col != 'ISO_YEAR':\n",
    "                log_med = np.log(np.median(input_df[col])) if np.median(input_df[col]) > 0 else 1\n",
    "                input_df[col] = input_df[col].apply(lambda row: np.log(row) if row > 0 else log_med)\n",
    "    input_df.drop(columns=drop_fields, axis=1, inplace=True)\n",
    "    return input_df\n"
   ],
   "metadata": {
    "collapsed": false,
    "ExecuteTime": {
     "end_time": "2023-09-16T16:46:09.338880900Z",
     "start_time": "2023-09-16T16:46:09.326880200Z"
    }
   },
   "id": "8c5cae383f8db3db"
  },
  {
   "cell_type": "code",
   "execution_count": 74,
   "outputs": [
    {
     "name": "stdout",
     "output_type": "stream",
     "text": [
      "Didnt work with AOTHER_SUBTYPE_DETAILS\n",
      "Didnt work with OTHER_RESPVIRUS_DETAILS\n",
      "Didnt work with LAB_RESULT_COMMENT\n",
      "Didnt work with WCR_COMMENT\n",
      "Didnt work with ISO2\n"
     ]
    }
   ],
   "source": [
    "df = preprocessing(df)"
   ],
   "metadata": {
    "collapsed": false,
    "ExecuteTime": {
     "end_time": "2023-09-16T16:46:11.605147600Z",
     "start_time": "2023-09-16T16:46:09.339881500Z"
    }
   },
   "id": "cb83fd5abe6f2fc"
  },
  {
   "cell_type": "code",
   "execution_count": 75,
   "outputs": [],
   "source": [
    "# prep labels and features\n",
    "y_fields = ['INF_ALL', 'COUNTRY_AREA_TERRITORY', 'ISO_YEAR']\n",
    "x_fields = [f for f in list(df.columns) if f not in y_fields]"
   ],
   "metadata": {
    "collapsed": false,
    "ExecuteTime": {
     "end_time": "2023-09-16T16:46:11.623148300Z",
     "start_time": "2023-09-16T16:46:11.607147800Z"
    }
   },
   "id": "cb98e6a67d934773"
  },
  {
   "cell_type": "code",
   "execution_count": 76,
   "outputs": [],
   "source": [
    "x = df[x_fields]\n",
    "y = df[y_fields]"
   ],
   "metadata": {
    "collapsed": false,
    "ExecuteTime": {
     "end_time": "2023-09-16T16:46:11.652147900Z",
     "start_time": "2023-09-16T16:46:11.621147600Z"
    }
   },
   "id": "ab6b3371bf0b8388"
  },
  {
   "cell_type": "code",
   "execution_count": 77,
   "outputs": [],
   "source": [
    "# set up the training and testing subsets\n",
    "xtrain, xtest, ytrain, ytest = model_selection.train_test_split(x, y, test_size=0.2, random_state=42)"
   ],
   "metadata": {
    "collapsed": false,
    "ExecuteTime": {
     "end_time": "2023-09-16T16:46:11.712147900Z",
     "start_time": "2023-09-16T16:46:11.653149200Z"
    }
   },
   "id": "52a4b3b2749c5475"
  },
  {
   "cell_type": "code",
   "execution_count": 78,
   "outputs": [],
   "source": [
    "# fit and train model\n",
    "xg = XGBRegressor(n_jobs=-1)"
   ],
   "metadata": {
    "collapsed": false,
    "ExecuteTime": {
     "end_time": "2023-09-16T16:46:11.727148500Z",
     "start_time": "2023-09-16T16:46:11.713146900Z"
    }
   },
   "id": "24010f031128f17e"
  },
  {
   "cell_type": "code",
   "execution_count": 79,
   "outputs": [],
   "source": [
    "xg.fit(xtrain, ytrain)\n",
    "pred = xg.predict(xtest)"
   ],
   "metadata": {
    "collapsed": false,
    "ExecuteTime": {
     "end_time": "2023-09-16T16:46:15.134197700Z",
     "start_time": "2023-09-16T16:46:11.728147900Z"
    }
   },
   "id": "79d7c691f9d9e4ad"
  },
  {
   "cell_type": "code",
   "execution_count": 80,
   "outputs": [
    {
     "name": "stdout",
     "output_type": "stream",
     "text": [
      "r squared 0.9997625584558998\n",
      "rmse 0.455001706879856\n",
      "mse 0.39338242739299917\n"
     ]
    }
   ],
   "source": [
    "# output results\n",
    "print('r squared', metrics.r2_score(pred, ytest))\n",
    "print('rmse', metrics.mean_squared_error(ytest, pred, squared=True))\n",
    "print('mse', metrics.mean_squared_error(ytest, pred, squared=False))"
   ],
   "metadata": {
    "collapsed": false,
    "ExecuteTime": {
     "end_time": "2023-09-16T16:46:15.149198Z",
     "start_time": "2023-09-16T16:46:15.135197700Z"
    }
   },
   "id": "219aab7556160121"
  },
  {
   "cell_type": "code",
   "execution_count": 81,
   "outputs": [],
   "source": [
    "# reverse transform and clean up predicted results\n",
    "def finalize_and_export(pred_results):\n",
    "    results = pd.DataFrame(pred_results, columns=y_fields)\n",
    "    results['COUNTRY_AREA_TERRITORY'] = np.round(np.abs(results['COUNTRY_AREA_TERRITORY']))\n",
    "    results['COUNTRY_AREA_TERRITORY'] = results['COUNTRY_AREA_TERRITORY'].apply(lambda row: list(country_names.keys())[list(country_names.values()).index(row)] if row in list(country_names.values()) else 'ERROR') # reverse transform country names back to original string value\n",
    "    results['INF_ALL'] = results['INF_ALL'].apply(lambda row: math.floor(math.exp(row))) # reverse transform natural log\n",
    "    results['ISO_YEAR'] = np.floor(results['ISO_YEAR'])\n",
    "    results = results.groupby(y_fields[1:])[y_fields[0]].sum().to_frame().reset_index() # group by year and country name\n",
    "    return results\n"
   ],
   "metadata": {
    "collapsed": false,
    "ExecuteTime": {
     "end_time": "2023-09-16T16:46:15.181196900Z",
     "start_time": "2023-09-16T16:46:15.151197700Z"
    }
   },
   "id": "7d1c8e7f6167ce78"
  },
  {
   "cell_type": "code",
   "execution_count": 82,
   "outputs": [],
   "source": [
    "grouped_pred = finalize_and_export(pred)"
   ],
   "metadata": {
    "collapsed": false,
    "ExecuteTime": {
     "end_time": "2023-09-16T16:46:15.332060400Z",
     "start_time": "2023-09-16T16:46:15.165197900Z"
    }
   },
   "id": "ebd6a7f21c0bdf26"
  },
  {
   "cell_type": "code",
   "execution_count": 84,
   "outputs": [],
   "source": [
    "get_1999_after_index = df.query('ISO_YEAR > 2017').index.values.tolist() # frequency of data collection similar from 2017 to 2023\n",
    "final_pred = finalize_and_export(xg.predict(x[x.index.isin(get_1999_after_index)])).astype({'ISO_YEAR': 'int32', 'INF_ALL': 'int32'})"
   ],
   "metadata": {
    "collapsed": false,
    "ExecuteTime": {
     "end_time": "2023-09-16T16:46:15.720032100Z",
     "start_time": "2023-09-16T16:46:15.347059900Z"
    }
   },
   "id": "27038608eace03fc"
  },
  {
   "cell_type": "code",
   "execution_count": 103,
   "outputs": [],
   "source": [
    "# post processing\n",
    "spat_ready_preds = final_pred.merge(df, on='COUNTRY_AREA_TERRITORY').rename(columns={\"ISO2\": \"ISO\"}) # rename to properly join with boundary feature class"
   ],
   "metadata": {
    "collapsed": false,
    "ExecuteTime": {
     "end_time": "2023-09-16T18:02:56.058017500Z",
     "start_time": "2023-09-16T18:02:56.047017500Z"
    }
   },
   "id": "1f16710c2e089aec"
  },
  {
   "cell_type": "code",
   "execution_count": 87,
   "outputs": [],
   "source": [
    "country_boundary_gdb = os.path.join(datasets, 'f5c62d79-b3bb-440a-96cb-a5a8015a3fce.gdb') # load unzipped geodatabase"
   ],
   "metadata": {
    "collapsed": false,
    "ExecuteTime": {
     "end_time": "2023-09-16T17:46:32.354062100Z",
     "start_time": "2023-09-16T17:46:32.339061Z"
    }
   },
   "id": "fff75ad5b060a993"
  },
  {
   "cell_type": "code",
   "execution_count": 91,
   "outputs": [],
   "source": [
    "boundaries = gpd.read_file(country_boundary_gdb, driver='FileGDB', layer='World_Countries_Generalized')\n",
    "boundaries.drop(columns=['COUNTRY', 'COUNTRYAFF', 'AFF_ISO', 'SHAPE_Length', 'SHAPE_Area'], axis=1, inplace=True) # remove unnecessary columns"
   ],
   "metadata": {
    "collapsed": false,
    "ExecuteTime": {
     "end_time": "2023-09-16T17:51:10.664995100Z",
     "start_time": "2023-09-16T17:51:10.499983500Z"
    }
   },
   "id": "6cbc909039c8950d"
  },
  {
   "cell_type": "code",
   "execution_count": 105,
   "outputs": [],
   "source": [
    "spatial_preds = spat_ready_preds.merge(boundaries, on='ISO').astype({'ISO_YEAR': 'int32', 'INF_ALL': 'int32'})"
   ],
   "metadata": {
    "collapsed": false,
    "ExecuteTime": {
     "end_time": "2023-09-16T18:04:34.176453300Z",
     "start_time": "2023-09-16T18:04:34.171453800Z"
    }
   },
   "id": "e1a020da3fecaa46"
  },
  {
   "cell_type": "code",
   "execution_count": 106,
   "outputs": [],
   "source": [
    "spatial_preds = gpd.GeoDataFrame(spatial_preds, geometry=spatial_preds['geometry'], crs=boundaries.crs)"
   ],
   "metadata": {
    "collapsed": false,
    "ExecuteTime": {
     "end_time": "2023-09-16T18:05:32.966247300Z",
     "start_time": "2023-09-16T18:05:32.950247500Z"
    }
   },
   "id": "433c6329ad7f719f"
  },
  {
   "cell_type": "code",
   "execution_count": null,
   "outputs": [],
   "source": [
    "spatial_preds.to_file(os.path.join(datasets, 'mz_hophacks_2023_influenza_global_predictions.shp'))"
   ],
   "metadata": {
    "collapsed": false
   },
   "id": "6ac30a2f95317dc7"
  },
  {
   "cell_type": "code",
   "execution_count": null,
   "outputs": [],
   "source": [
    "# please review the mz_hophacks2023_upload_2_agol.py file to understand how to publish content to AGOL using the ArcGIS API for Python #\n"
   ],
   "metadata": {
    "collapsed": false
   },
   "id": "12ebf788e5e81220"
  }
 ],
 "metadata": {
  "kernelspec": {
   "display_name": "Python 3",
   "language": "python",
   "name": "python3"
  },
  "language_info": {
   "codemirror_mode": {
    "name": "ipython",
    "version": 2
   },
   "file_extension": ".py",
   "mimetype": "text/x-python",
   "name": "python",
   "nbconvert_exporter": "python",
   "pygments_lexer": "ipython2",
   "version": "2.7.6"
  }
 },
 "nbformat": 4,
 "nbformat_minor": 5
}
